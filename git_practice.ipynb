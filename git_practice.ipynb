{
 "cells": [
  {
   "cell_type": "code",
   "execution_count": 1,
   "id": "9c5e4d57-3b59-4f7b-baa7-f48165b6cdc1",
   "metadata": {},
   "outputs": [
    {
     "name": "stdout",
     "output_type": "stream",
     "text": [
      "Hello, World!\n"
     ]
    }
   ],
   "source": [
    "print(\"Hello, World!\")"
   ]
  },
  {
   "cell_type": "code",
   "execution_count": 3,
   "id": "53b6fa3a-5f66-48a7-bbd2-6674821467bf",
   "metadata": {},
   "outputs": [],
   "source": [
    "def sum(m, n):\n",
    "    return m + n"
   ]
  },
  {
   "cell_type": "code",
   "execution_count": 5,
   "id": "d75c84c9-87c1-4863-8dbc-4c5fe7dda4ad",
   "metadata": {},
   "outputs": [
    {
     "data": {
      "text/plain": [
       "20"
      ]
     },
     "execution_count": 5,
     "metadata": {},
     "output_type": "execute_result"
    }
   ],
   "source": [
    "sum (14, 6)"
   ]
  },
  {
   "cell_type": "code",
   "execution_count": 9,
   "id": "6c5ed3c8-d3c2-4431-be80-41a99899fdb9",
   "metadata": {},
   "outputs": [
    {
     "name": "stdout",
     "output_type": "stream",
     "text": [
      "0\n",
      "2\n",
      "4\n",
      "6\n",
      "8\n",
      "10\n",
      "12\n",
      "14\n",
      "16\n",
      "18\n"
     ]
    }
   ],
   "source": [
    "for n in range(10):\n",
    "    print (n * 2)"
   ]
  },
  {
   "cell_type": "code",
   "execution_count": null,
   "id": "f20fcb74-c672-4510-b707-e9e3eadd0a74",
   "metadata": {},
   "outputs": [],
   "source": []
  }
 ],
 "metadata": {
  "kernelspec": {
   "display_name": "Python 3 (ipykernel)",
   "language": "python",
   "name": "python3"
  },
  "language_info": {
   "codemirror_mode": {
    "name": "ipython",
    "version": 3
   },
   "file_extension": ".py",
   "mimetype": "text/x-python",
   "name": "python",
   "nbconvert_exporter": "python",
   "pygments_lexer": "ipython3",
   "version": "3.11.7"
  }
 },
 "nbformat": 4,
 "nbformat_minor": 5
}
